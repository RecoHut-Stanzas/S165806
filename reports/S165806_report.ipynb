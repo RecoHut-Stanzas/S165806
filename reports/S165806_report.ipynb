{
  "cells": [
    {
      "cell_type": "markdown",
      "source": [
        "# Group Playlist Recommender\n",
        "In many social situations, like parties and road trips, groups of people with different music tastes will listen to music together. It's hard to please everyone, and it's even harder if you don't know what each person likes. There are multiple ways to synthesize the preferences of a group. Should you average their preferences? Should you try to make sure that no one hates the choices at the cost of excluding someone's favorites? We explore these questions by first generating a music profile for each person, and then applying different strategies to combine their preferences into a single playlist.\n",
        "\n",
        "## Tutorials\n",
        "\n",
        "### Group Playlist Recommendations on Million Songs Dataset using Surprise SVD and NMF Model\n",
        "\n",
        "![https://raw.githubusercontent.com/RecoHut-Stanzas/S165806/main/images/process_flow.svg](https://raw.githubusercontent.com/RecoHut-Stanzas/S165806/main/images/process_flow.svg)\n",
        "\n",
        "## Links and References\n",
        "\n",
        "1. [https://github.com/RecoHut-Stanzas/S165806](https://github.com/RecoHut-Stanzas/S165806)\n",
        "2. [https://github.com/chrisshaffer/group-playlist-recommender](https://github.com/chrisshaffer/group-playlist-recommender)\n",
        "3. [Taste Profile Subset](http://millionsongdataset.com/tasteprofile/)"
      ],
      "metadata": {
        "id": "lIYdn1woOS1n"
      }
    }
  ],
  "metadata": {
    "colab": {
      "name": "scratchpad",
      "provenance": []
    },
    "kernelspec": {
      "display_name": "Python 3",
      "name": "python3"
    }
  },
  "nbformat": 4,
  "nbformat_minor": 0
}